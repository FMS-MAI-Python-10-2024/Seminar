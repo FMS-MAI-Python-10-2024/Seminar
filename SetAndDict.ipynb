{
 "cells": [
  {
   "metadata": {},
   "cell_type": "markdown",
   "source": "## Словари и множества",
   "id": "fe8e969c2632f9bb"
  },
  {
   "metadata": {},
   "cell_type": "markdown",
   "source": [
    "### Множества\n",
    "\n",
    "Set - множество, набор уникальных данных. "
   ],
   "id": "aee74c5324fec793"
  },
  {
   "cell_type": "code",
   "id": "initial_id",
   "metadata": {
    "collapsed": true
   },
   "source": [
    "my_set = {1, 2, 3, 4}\n",
    "print(\"Множество:\", my_set)\n",
    "\n",
    "# Добавление элемента\n",
    "my_set.add(5)\n",
    "print(\"Добавление элемента 5 в множество:\", my_set)\n",
    "\n",
    "# Можно добавлять разные типы данных\n",
    "my_set.add(\"a\")\n",
    "print(\"Добавление элемента 'a' в множество:\", my_set)\n",
    "\n",
    "# Сохраняются только уникальные значения\n",
    "for i in range(5):\n",
    "    my_set.add(\"a\")\n",
    "    \n",
    "print(my_set)\n",
    "\n",
    "# Удаление элемента\n",
    "my_set.remove(2)\n",
    "print(\"Удаление элемента из множества:\", my_set)"
   ],
   "outputs": [],
   "execution_count": null
  },
  {
   "metadata": {},
   "cell_type": "markdown",
   "source": "Основные действия с set. Как мы знаем, у множеств в математике есть, например, пересечения и в целом поддержка логики. В Python это так же реализовано.",
   "id": "14aa13dfce5ae1c"
  },
  {
   "metadata": {},
   "cell_type": "code",
   "source": [
    "set1 = {1, 2, 3}\n",
    "set2 = {3, 4, 5}\n",
    "\n",
    "# Объединение множеств\n",
    "union_set = set1.union(set2)\n",
    "print(\"Объединение множеств:\", union_set)\n",
    "\n",
    "# Пересечение множеств\n",
    "intersection_set = set1.intersection(set2)\n",
    "print(\"Пересечение множеств:\", intersection_set)\n",
    "\n",
    "# Какими элементами множество 1 отличается от 2\n",
    "difference_set = set1.difference(set2)\n",
    "print(\"Разница множеств:\", difference_set)\n",
    "\n",
    "# Какими элементами множество 2 отличается от 1\n",
    "difference_set = set2.difference(set1)\n",
    "print(\"Разница множеств:\", difference_set)"
   ],
   "id": "5f561404e69d4ffd",
   "outputs": [],
   "execution_count": null
  },
  {
   "metadata": {},
   "cell_type": "markdown",
   "source": "Однако такая запись будет слегка громоздка. Множества поддерживают бинарные операции.",
   "id": "1eda575c70df6f9a"
  },
  {
   "metadata": {},
   "cell_type": "code",
   "source": [
    "set1 = {1, 2, 3}\n",
    "set2 = {3, 4, 5}\n",
    "\n",
    "# Объединение множеств\n",
    "union_set = set1 | set2\n",
    "print(\"Объединение:\", union_set)\n",
    "\n",
    "# Пересечение множеств\n",
    "intersection_set = set1 & set2\n",
    "print(\"Пересечение:\", intersection_set)\n",
    "\n",
    "# Разница множеств (не и)\n",
    "difference_set = set1 ^ set2\n",
    "print(\"Разница:\", difference_set)\n",
    "\n",
    "# Отличие одного сета от другого\n",
    "difference_set1_from_set2 = set1 - set2\n",
    "print(\"Отличие первого множества от втрого:\", difference_set1_from_set2)"
   ],
   "id": "7684fc1d029060e2",
   "outputs": [],
   "execution_count": null
  },
  {
   "metadata": {},
   "cell_type": "markdown",
   "source": "Также множества можно проверять и на подмножества.",
   "id": "65e1386ac7ed83a"
  },
  {
   "metadata": {},
   "cell_type": "code",
   "source": [
    "set1 = {1, 2, 3}\n",
    "set2 = {3, 4, 5}\n",
    "\n",
    "print(3 in set1)  # True\n",
    "print(2 in set2)  # False\n",
    "\n",
    "# Проверка на подмножества\n",
    "print(set1.issubset(set2))  # False\n",
    "print(set1.issuperset({1, 2}))  # True"
   ],
   "id": "eb057ed791b07fa1",
   "outputs": [],
   "execution_count": null
  },
  {
   "metadata": {},
   "cell_type": "markdown",
   "source": "Кортежи (tuple) также можно положить в множества, однако список положить не получится.",
   "id": "fd806d090550e0e1"
  },
  {
   "metadata": {},
   "cell_type": "code",
   "source": [
    "my_list = [1, 2, 3]\n",
    "my_set = {1, 2, 3}\n",
    "\n",
    "# Попытаемся положить в set список\n",
    "try:\n",
    "    my_set.add(my_list)\n",
    "    print(my_set)\n",
    "except TypeError as e:\n",
    "    print(e)\n",
    "\n",
    "# Приведём список к кортежу\n",
    "my_tuple = tuple(my_list)\n",
    "\n",
    "# Добавляем кортеж\n",
    "my_set.add(my_tuple)\n",
    "print(my_set)"
   ],
   "id": "ee3631ddf20b1daa",
   "outputs": [],
   "execution_count": null
  },
  {
   "metadata": {},
   "cell_type": "markdown",
   "source": "Обратите внимание, что set не поддерживает оператор доступа к элементу [].",
   "id": "7d94eb5cee4cbff0"
  },
  {
   "metadata": {},
   "cell_type": "code",
   "source": [
    "my_set = {1, 2, 3}\n",
    "# Попробуем обратиться к первому элементу множества\n",
    "try:\n",
    "    print(my_set[0])\n",
    "except TypeError as e:\n",
    "    print(e)  # \"set\" object is not subscriptable"
   ],
   "id": "a2b6b190b8707967",
   "outputs": [],
   "execution_count": null
  },
  {
   "metadata": {},
   "cell_type": "markdown",
   "source": [
    "## Как это работает?\n",
    "\n",
    "### Хэширование\n",
    "\n",
    "Хэширование — это процесс преобразования данных в фиксированное числовое значение, называемое хэшом. Хэш-функции берут входные данные (например, строки, числа или другие объекты) и создают уникальное числовое представление, которое можно использовать для быстрого поиска и сравнения элементов.\n",
    "\n",
    "В Python структуры данных dict и set используют хэширование для организации своих данных, что позволяет им обеспечивать быстрый доступ (в среднем O(1)) к элементам. Например, когда вы добавляете или ищете элемент в set или dict, Python сначала вычисляет хэш элемента (или ключа), а затем использует это значение для определения позиции в памяти.\n",
    "\n",
    "Для вычисления хэшей в Python используется встроенная функция hash(), которая возвращает уникальное целое число для объектов, которые могут быть захэшированы (например, числа, строки, кортежи).\n",
    "\n",
    "Размер множества (set и dict) сильно больше, чем просто сумма размеров его элементов, потому что для эффективного хранения и доступа требуется дополнительная память для управления хэш-таблицей, а также для борьбы с коллизиями и обеспечения свободного места, чтобы избежать переполнения.\n",
    "\n",
    "### Коллизии\n",
    "\n",
    "Коллизия — это ситуация, когда два разных объекта имеют одинаковое хэш-значение. Коллизии неизбежны, поскольку хэш-функции преобразуют потенциально бесконечное множество входных данных в ограниченное количество значений. Другими словами, хэш-функция ограничена по количеству возможных значений, а количество возможных входных данных — нет. Например, если хэш-функция может выдавать значения в диапазоне от 0 до 100 и выдаёт их на произвольную строку, то при большом количестве входных данных вероятно, что несколько из них будут иметь одинаковый хэш.\n",
    "\n",
    "В Python при возникновении коллизий используются различные методы их разрешения, например, открытая адресация или связные списки."
   ],
   "id": "af50308b2765cfa7"
  },
  {
   "metadata": {},
   "cell_type": "markdown",
   "source": [
    "### Пример коллизии\n",
    "\n",
    "Теперь давайте рассмотрим пример с коллизиями на основе простой хэш-функции. Мы будем давать каждой букве английского алфавита числовой код, например, буква 'a' — 1, 'b' — 2 и так далее, до 'z' — 26. Для строки будем просто складывать коды букв. Это хэш-функция очень простая, и у неё будут коллизии.\n",
    "\n",
    "Например, рассмотрим строку 'az' и строку 'abf'. Они обе дадут одинаковый хэш, хотя содержат разные буквы."
   ],
   "id": "1d90014301a468e1"
  },
  {
   "metadata": {},
   "cell_type": "code",
   "source": [
    "# Пример простой хэш-функции для строк на основе конкатенации индексов букв\n",
    "\n",
    "def simple_hash(s):\n",
    "    # Присваиваем буквам числа от 1 до 26\n",
    "    letter_to_num = {chr(i + 96): str(i) for i in range(1, 27)}  # 'a' -> '1', 'b' -> '2', ..., 'z' -> '26'\n",
    "    return ''.join(letter_to_num[char] for char in s)\n",
    "\n",
    "# Примеры строк\n",
    "word1 = input() # 'az'\n",
    "word2 = input() # 'abf'\n",
    "\n",
    "# Хэшируем строки\n",
    "hash1 = simple_hash(word1)\n",
    "hash2 = simple_hash(word2)\n",
    "\n",
    "# Выводим результаты\n",
    "print(f\"Хэш для '{word1}': {hash1}\")\n",
    "print(f\"Хэш для '{word2}': {hash2}\")\n",
    "\n",
    "# Проверяем коллизию\n",
    "if hash1 == hash2:\n",
    "    print(f\"Коллизия! '{word1}' и '{word2}' имеют одинаковый хэш.\")\n",
    "else:\n",
    "    print(f\"Нет коллизии между '{word1}' и '{word2}'.\")"
   ],
   "id": "cd46cf7a6a381aad",
   "outputs": [],
   "execution_count": null
  },
  {
   "metadata": {},
   "cell_type": "markdown",
   "source": [
    "### Мультимножества\n",
    "\n",
    "Мультисет - такое же множество как и set, однако оно хранит в себе и дубликаты.\n",
    "\n",
    "Для его использования мультисет необходимо сперва добавить в нашу программу с помощью import."
   ],
   "id": "841be0c4d30f4934"
  },
  {
   "metadata": {},
   "cell_type": "code",
   "source": "from collections import Counter",
   "id": "3f362bd17534894c",
   "outputs": [],
   "execution_count": null
  },
  {
   "metadata": {},
   "cell_type": "markdown",
   "source": "Словом Counter в Python обозначается мультисет.",
   "id": "1d4a34c9396cbd5c"
  },
  {
   "metadata": {},
   "cell_type": "code",
   "source": [
    "# Создание мультисета\n",
    "multiset = Counter(\"hello\")\n",
    "print(\"Мультисет:\", multiset)\n",
    "\n",
    "# Добавление элементов\n",
    "multiset.update(\"l\")\n",
    "print(\"После добавления 'l':\", multiset)\n",
    "\n",
    "# Подсчёт количества вхождений элемента\n",
    "print(\"Количество 'l':\", multiset[\"l\"])\n",
    "\n",
    "# Удаление одного вхождения элемента\n",
    "multiset.subtract(\"l\")\n",
    "print(\"После удаления одного вхождения 'l':\", multiset)\n",
    "\n",
    "# Удаление нескольких вхождений элементов\n",
    "multiset[\"l\"] -= 2\n",
    "print(\"После удаления двух 'l':\", multiset)\n",
    "\n",
    "# Удаление всех вхождений элемента. При такой реализации мультисет совсем забывает про l\n",
    "del multiset[\"l\"]\n",
    "print(\"После удаления всех вхождений 'l':\", multiset)\n",
    "\n",
    "# Удаление и добавление нескольких вхождений элемента\n",
    "multiset.update(\"hello\")  # Добавим 'hello' ещё раз\n",
    "print(\"После добавления 'hello':\", multiset)\n",
    "multiset.subtract(\"ello\")\n",
    "print(\"После удаления 2-х 'l', 1 'e' и 1 'o':\", multiset)"
   ],
   "id": "16786ead7bfa6f03",
   "outputs": [],
   "execution_count": null
  },
  {
   "metadata": {},
   "cell_type": "code",
   "source": [
    "# Объединение двух мультисетов (суммируем количество одинаковых элементов)\n",
    "multiset2 = Counter(\"world\")\n",
    "union_multiset = multiset + multiset2\n",
    "print(\"Объединение двух мультисетов:\", union_multiset)\n",
    "\n",
    "# Пересечение двух мультисетов (берём минимальное количество каждого элемента)\n",
    "intersection_multiset = multiset & multiset2\n",
    "print(\"Пересечение двух мультисетов:\", intersection_multiset)\n",
    "\n",
    "# Разница между двумя мультисетами\n",
    "difference_multiset = multiset - multiset2\n",
    "print(\"Разница мультисетов:\", difference_multiset)\n",
    "\n",
    "# Мультисеты не поддерживают XOR\n",
    "try:\n",
    "    no_intersection_multiset = multiset ^ multiset2\n",
    "    print(no_intersection_multiset)\n",
    "except TypeError as e:\n",
    "    print(e)"
   ],
   "id": "34771b7aba208bdb",
   "outputs": [],
   "execution_count": null
  },
  {
   "metadata": {},
   "cell_type": "markdown",
   "source": "Мультисеты (реализованные через Counter) позволяют работать с неуникальными элементами и предоставляют гибкие инструменты для добавления, удаления и подсчёта вхождений элементов. Мы можем выполнять с мультисетами аналогичные операции, как с множествами, но с учётом количества каждого элемента.",
   "id": "830327b8c54ba299"
  },
  {
   "metadata": {},
   "cell_type": "markdown",
   "source": [
    "### Пример использования\n",
    "\n",
    "Давайте проверим, являются ли два слова анаграммами. Два слова являются анаграммами, если одно можно получить из другого путём перестановки букв.\n",
    "\n",
    "Например, 'aba' и 'aab' - анаграммы, а 'aba' 'bba' нет. Аналогично 'baa' и 'baaa' не анаграммы."
   ],
   "id": "7f5781690390af46"
  },
  {
   "metadata": {},
   "cell_type": "code",
   "source": [
    "def are_anagrams(word1, word2):\n",
    "    # Прежде всего сверяем длины слов. У анаграмм они одинаковые\n",
    "    if len(word1) != len(word2):\n",
    "        return False\n",
    "    \n",
    "    # Приводим к нижнему регистру для корректного сравнения\n",
    "    word1 = word1.lower()\n",
    "    word2 = word2.lower()\n",
    "    \n",
    "    # Используем Counter для подсчёта частоты символов\n",
    "    return Counter(word1) == Counter(word2)\n",
    "\n",
    "# Пример использования\n",
    "word1 = input() # \"listen\"\n",
    "word2 = input() # \"silent\"\n",
    "\n",
    "if are_anagrams(word1, word2):\n",
    "    print(f\"'{word1}' и '{word2}' являются анаграммами.\")\n",
    "else:\n",
    "    print(f\"'{word1}' и '{word2}' не являются анаграммами.\")"
   ],
   "id": "380af4a9633bb45f",
   "outputs": [],
   "execution_count": null
  },
  {
   "metadata": {},
   "cell_type": "markdown",
   "source": "Давайте вернёмся к set. Как мы видим, set - несортированная коллекция. Но как же её отсортировать?",
   "id": "2ae4107aa0f2f3f"
  },
  {
   "metadata": {},
   "cell_type": "code",
   "source": [
    "my_set = {1, 3, 4, 2, 5, 7, 6}\n",
    "my_sorted_set = sorted(my_set)\n",
    "print(\"Отсортированное множество:\", my_sorted_set)"
   ],
   "id": "2fe59a8f3781efcf",
   "outputs": [],
   "execution_count": null
  },
  {
   "metadata": {},
   "cell_type": "markdown",
   "source": [
    "### Замороженное множество\n",
    "\n",
    "В Python существует кортеж для замороженных списков. Аналогично и для множеств существует неизменяемый аналог."
   ],
   "id": "94dc8a745d8fa1b5"
  },
  {
   "metadata": {},
   "cell_type": "code",
   "source": [
    "my_frozenset = frozenset(my_set)\n",
    "print(my_frozenset)"
   ],
   "id": "e89d340e3d9423df",
   "outputs": [],
   "execution_count": null
  },
  {
   "metadata": {},
   "cell_type": "markdown",
   "source": "Попробуем в него что-нибудь добавить.",
   "id": "b26905670097e40c"
  },
  {
   "metadata": {},
   "cell_type": "code",
   "source": [
    "try:\n",
    "    my_frozenset.add(10)\n",
    "except AttributeError as e:\n",
    "    print(e)  # 'frozenset' object has no attribute 'add'"
   ],
   "id": "5dd946641288ab18",
   "outputs": [],
   "execution_count": null
  },
  {
   "metadata": {},
   "cell_type": "markdown",
   "source": "Frozenset можно использовать в операциях и с обычными множествами.",
   "id": "5e1ee371343089d1"
  },
  {
   "metadata": {},
   "cell_type": "code",
   "source": [
    "set1 = {1, 2, 3}\n",
    "frozen_set2 = frozenset([3, 4, 5])\n",
    "\n",
    "# Объединение\n",
    "union_result = set1 | frozen_set2 # Возвращается тип set\n",
    "print(\"Объединение:\", union_result)  # {1, 2, 3, 4, 5}\n",
    "\n",
    "# Пересечение\n",
    "intersection_result = set1 & frozen_set2 # Возвращается тип set\n",
    "print(\"Пересечение:\", intersection_result)  # {3}"
   ],
   "id": "78c26ad55c7127a0",
   "outputs": [],
   "execution_count": null
  },
  {
   "metadata": {},
   "cell_type": "markdown",
   "source": [
    "### Словари\n",
    "\n",
    "Структура словарей очень похожа на Counter, где в значении у нас лежало количество. Однако в случае словарей значением может быть любая структура, в том числе и словарь.\n",
    "\n",
    "В данном случае рассмотрим пример, когда и ключ, и значение - строки."
   ],
   "id": "e05859df4e863ea8"
  },
  {
   "metadata": {},
   "cell_type": "code",
   "source": [
    "# Инициализация пустого словаря\n",
    "my_dict = {}\n",
    "print(\"Пустой словарь:\", my_dict)\n",
    "\n",
    "# Инициализация словаря с элементами\n",
    "my_dict = {\"key1\": \"value1\", \"key2\": \"value2\"}\n",
    "print(\"Словарь с элементами:\", my_dict)\n",
    "\n",
    "# Добавление элемента\n",
    "my_dict[\"key3\"] = \"value3\"\n",
    "print(\"Добавление элемента:\", my_dict)\n",
    "\n",
    "# Удаление элемента по ключу\n",
    "my_dict.pop(\"key2\")\n",
    "print(\"Удаление элемента по ключу:\", my_dict)\n",
    "\n",
    "# Очистка словаря\n",
    "my_dict.clear()\n",
    "print(\"Очистка словаря:\", my_dict)"
   ],
   "id": "bf6bffe76e07a106",
   "outputs": [],
   "execution_count": null
  },
  {
   "metadata": {},
   "cell_type": "code",
   "source": [
    "# Инициализация с определённым количеством элементов\n",
    "predefined_dict = {f\"key{i}\": f\"value{i}\" for i in range(5)}\n",
    "print(\"Словарь с заданными элементами:\", predefined_dict)"
   ],
   "id": "db22d86ceb996b5e",
   "outputs": [],
   "execution_count": null
  },
  {
   "metadata": {},
   "cell_type": "markdown",
   "source": "Ключи в словаре могут быть разными и не зависеть друг от друга:",
   "id": "eb34668faf050baf"
  },
  {
   "metadata": {},
   "cell_type": "code",
   "source": [
    "# Пример с разными типами ключей\n",
    "mixed_keys_dict = {1: \"integer key\", \"str\": \"string key\", (1, 2): \"tuple key\"}\n",
    "print(\"Словарь с разными типами ключей:\", mixed_keys_dict)"
   ],
   "id": "fbec3be20c87f7f5",
   "outputs": [],
   "execution_count": null
  },
  {
   "metadata": {},
   "cell_type": "code",
   "source": [
    "dict1 = {\"a\": 1, \"b\": 2}\n",
    "dict2 = {\"a\": 1, \"b\": 2}\n",
    "print(\"Словари равны:\", dict1 == dict2)\n",
    "\n",
    "# Сравнение неравных словарей\n",
    "dict3 = {\"a\": 1, \"c\": 3}\n",
    "print(\"Словари не равны:\", dict1 == dict3)"
   ],
   "id": "a13e7d4ca2046489",
   "outputs": [],
   "execution_count": null
  },
  {
   "metadata": {},
   "cell_type": "markdown",
   "source": "Сортировка и приведение словаря к списку элементов ключ-значение.",
   "id": "5d00888994aab73d"
  },
  {
   "metadata": {},
   "cell_type": "code",
   "source": [
    "# Приведение словаря к списку ключей и значений\n",
    "my_dict = {\"a\": 3, \"b\": 1, \"c\": 2}\n",
    "sorted_keys = sorted(my_dict.keys())\n",
    "sorted_values = sorted(my_dict.values())\n",
    "print(\"Отсортированные ключи:\", sorted_keys)\n",
    "print(\"Отсортированные значения:\", sorted_values)\n",
    "\n",
    "# Преобразование словаря в список пар (ключ, значение)\n",
    "dict_items = list(my_dict.items())\n",
    "print(\"Список пар ключ-значение:\", dict_items)"
   ],
   "id": "980badf251fc33e1",
   "outputs": [],
   "execution_count": null
  },
  {
   "metadata": {},
   "cell_type": "markdown",
   "source": "Пример значения как структуры:",
   "id": "d97e6b07c0eb12d7"
  },
  {
   "metadata": {},
   "cell_type": "code",
   "source": [
    "my_dict = {\n",
    "    \"name\": \"Alice\",            # значение - строка\n",
    "    \"age\": 30,                  # значение - число\n",
    "    \"hobbies\": [\"reading\", \"swimming\"],  # значение - список\n",
    "    \"is_student\": False         # значение - булевое значение\n",
    "}\n",
    "\n",
    "# Доступ к значениям\n",
    "print(\"Name:\", my_dict[\"name\"])        # Выводит строку\n",
    "print(\"Hobbies:\", my_dict[\"hobbies\"])  # Выводит список"
   ],
   "id": "f5bbe52bd6170a77",
   "outputs": [],
   "execution_count": null
  },
  {
   "metadata": {},
   "cell_type": "markdown",
   "source": "Давайте добавим ещё одно хобби",
   "id": "245956783c6b9705"
  },
  {
   "metadata": {},
   "cell_type": "code",
   "source": [
    "if isinstance(my_dict[\"hobbies\"], list):\n",
    "    my_dict[\"hobbies\"].append(\"walking\")\n",
    "\n",
    "print(\"Updated hobbies:\", my_dict[\"hobbies\"])"
   ],
   "id": "5acf75be3fbba9ba",
   "outputs": [],
   "execution_count": null
  },
  {
   "metadata": {},
   "cell_type": "markdown",
   "source": "Давайте попробуем поделать разные запросы к словарям.",
   "id": "ca95eb43555b0c7"
  },
  {
   "metadata": {},
   "cell_type": "code",
   "source": [
    "# Словарь для Alice\n",
    "alice = {\n",
    "    \"name\": \"Alice\",\n",
    "    \"age\": 30,\n",
    "    \"hobbies\": [\"reading\", \"swimming\", \"traveling\"],\n",
    "    \"is_student\": False\n",
    "}\n",
    "\n",
    "# Словарь для Bob\n",
    "bob = {\n",
    "    \"name\": \"Bob\",\n",
    "    \"age\": 25,\n",
    "    \"hobbies\": [\"gaming\", \"cycling\"],\n",
    "    \"is_student\": True\n",
    "}\n",
    "\n",
    "# Сравнение количества хобби\n",
    "if len(alice[\"hobbies\"]) > len(bob[\"hobbies\"]):\n",
    "    print(f\"У Алисы больше хобби: {len(alice['hobbies'])} против {len(bob['hobbies'])}\")\n",
    "elif len(alice[\"hobbies\"]) < len(bob[\"hobbies\"]):\n",
    "    print(f\"У Боба больше хобби: {len(bob['hobbies'])} против {len(alice['hobbies'])}\")\n",
    "else:\n",
    "    print(f\"У Алиса и Боба одинаковое количество хобби: {len(alice['hobbies'])}\")\n",
    "\n",
    "# Сравнение возраста\n",
    "if alice[\"age\"] > bob[\"age\"]:\n",
    "    print(f\"Aлиса старше Боба: {alice['age']} против {bob['age']}\")\n",
    "elif alice[\"age\"] < bob[\"age\"]:\n",
    "    print(f\"Боб старше Алисы: {bob['age']} против {alice['age']}\")\n",
    "else:\n",
    "    print(f\"Алиса и Боб одного возраста: {alice['age']}\")\n",
    "\n",
    "# Сравнение длины имени\n",
    "if len(alice[\"name\"]) > len(bob[\"name\"]):\n",
    "    print(f\"Имя Алисы длиннее: {len(alice['name'])} букв против {len(bob['name'])}\")\n",
    "elif len(alice[\"name\"]) < len(bob[\"name\"]):\n",
    "    print(f\"Имя Боба длиннее: {len(bob['name'])} букв против {len(alice['name'])}\")\n",
    "else:\n",
    "    print(f\"Имена Боба и Алисы имеют одинаковую длину: {len(alice['name'])} букв\")\n",
    "\n",
    "# Проверка, кто является студентом\n",
    "if alice[\"is_student\"] and not bob[\"is_student\"]:\n",
    "    print(\"Алиса - студент, а Боб - нет\")\n",
    "elif not alice[\"is_student\"] and bob[\"is_student\"]:\n",
    "    print(\"Боб - студент, а Алиса - нет\")\n",
    "elif alice[\"is_student\"] and bob[\"is_student\"]:\n",
    "    print(\"Боб и Алиса оба являются студентами\")\n",
    "else:\n",
    "    print(\"Ни Боб, ни Алиса не студенты\")"
   ],
   "id": "bf63f060189e95d9",
   "outputs": [],
   "execution_count": null
  },
  {
   "metadata": {},
   "cell_type": "markdown",
   "source": "Давайте попробуем переписать ту задачу про анаграммы, но уже на словарях:",
   "id": "ece26aaf7619ec0f"
  },
  {
   "metadata": {},
   "cell_type": "code",
   "source": [
    "def are_anagrams(word1, word2):\n",
    "    # Приводим оба слова к нижнему регистру для корректного сравнения\n",
    "    word1 = word1.lower()\n",
    "    word2 = word2.lower()\n",
    "    \n",
    "    # Если длина слов разная, то они не могут быть анаграммами\n",
    "    if len(word1) != len(word2):\n",
    "        return False\n",
    "    \n",
    "    # Функция для подсчета частоты символов в слове с использованием словаря\n",
    "    def char_count(word):\n",
    "        count = {}\n",
    "        for char in word:\n",
    "            if char in count:\n",
    "                count[char] += 1\n",
    "            else:\n",
    "                count[char] = 1\n",
    "        return count\n",
    "    \n",
    "    # Подсчитываем символы для обоих слов\n",
    "    count1 = char_count(word1)\n",
    "    count2 = char_count(word2)\n",
    "    \n",
    "    # Сравниваем два словаря\n",
    "    return count1 == count2\n",
    "\n",
    "# Пример использования\n",
    "word1 = input() # \"listen\"\n",
    "word2 = input() # \"silent\"\n",
    "\n",
    "if are_anagrams(word1, word2):\n",
    "    print(f\"'{word1}' и '{word2}' являются анаграммами.\")\n",
    "else:\n",
    "    print(f\"'{word1}' и '{word2}' не являются анаграммами.\")"
   ],
   "id": "bc9d2c512cd226e0",
   "outputs": [],
   "execution_count": null
  },
  {
   "metadata": {},
   "cell_type": "markdown",
   "source": "Напишем программу, которая будет искать наиболее часто встречающуюся букву в строке:",
   "id": "ccea1a83e854b8d4"
  },
  {
   "metadata": {},
   "cell_type": "code",
   "source": [
    "def most_frequent_letter(s):\n",
    "    # Приводим строку к нижнему регистру, чтобы буквы не отличались по регистру\n",
    "    s = s.lower()\n",
    "    \n",
    "    # Создаём словарь для хранения частоты вхождений каждой буквы\n",
    "    letter_count = {}\n",
    "\n",
    "    # Проходим по каждому символу в строке\n",
    "    for letter in s:\n",
    "        # Если символ — буква, обновляем счётчик в словаре\n",
    "        if letter.isalpha():\n",
    "            if letter in letter_count:\n",
    "                letter_count[letter] += 1\n",
    "            else:\n",
    "                letter_count[letter] = 1\n",
    "\n",
    "    # Находим букву с максимальной частотой\n",
    "    max_letter = None\n",
    "    max_count = 0\n",
    "    for letter, count in letter_count.items():\n",
    "        if count > max_count:\n",
    "            max_letter = letter\n",
    "            max_count = count\n",
    "\n",
    "    return max_letter, max_count\n",
    "\n",
    "\n",
    "# Тестируем на строке\n",
    "input_string = \"Hello, how are you doing today?\"\n",
    "most_frequent, count = most_frequent_letter(input_string)\n",
    "\n",
    "print(f\"Наиболее часто встречаемая буква '{most_frequent}' с {count} вхождениями.\")"
   ],
   "id": "a89022fb403ee189",
   "outputs": [],
   "execution_count": null
  },
  {
   "metadata": {},
   "cell_type": "code",
   "source": "print(\"До скорых встреч!\")",
   "id": "c8f9344f15adb259",
   "outputs": [],
   "execution_count": null
  }
 ],
 "metadata": {
  "kernelspec": {
   "display_name": "Python 3",
   "language": "python",
   "name": "python3"
  },
  "language_info": {
   "codemirror_mode": {
    "name": "ipython",
    "version": 2
   },
   "file_extension": ".py",
   "mimetype": "text/x-python",
   "name": "python",
   "nbconvert_exporter": "python",
   "pygments_lexer": "ipython2",
   "version": "2.7.6"
  }
 },
 "nbformat": 4,
 "nbformat_minor": 5
}
