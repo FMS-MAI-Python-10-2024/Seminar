{
 "cells": [
  {
   "metadata": {},
   "cell_type": "markdown",
   "source": [
    "# Занятие 1: Введение в Python\n",
    "\n",
    "### Дата: 03.10.2024\n",
    "\n",
    "### Краткое описание: \n",
    "\n",
    "Это занятие направлено на ознакомление с основами языка Python. В рамках занятия разобраны основные типы переменных и операции с ними, а также другие, более сложные, базовые структуры типа tuple и list. Плюсом мы затронем условные выражения и циклы\n"
   ],
   "id": "1a013da42cd3b6cd"
  },
  {
   "metadata": {},
   "cell_type": "markdown",
   "source": [
    "## 1. Основные типы данных\n",
    "\n",
    "В Python мы оперируем тремя основными типами:\n",
    "\n",
    "+ int - целочисленный тип данных,\n",
    "+ float - числа с плавающей запятой,\n",
    "+ bool - логический тип данных (True или False).\n",
    "\n",
    "Комментарии в Python обозначаются с помощью \"#\":"
   ],
   "id": "da43a11b83c43e2e"
  },
  {
   "metadata": {},
   "cell_type": "code",
   "outputs": [],
   "execution_count": null,
   "source": [
    "# int\n",
    "a = 5\n",
    "print(\"Type of a:\", type(a))  # <class 'int'>\n",
    "print(\"Memory size of int:\", a.__sizeof__())  # Занимаемая память\n",
    "\n",
    "# bool\n",
    "b = True\n",
    "print(\"Type of b:\", type(b))  # <class 'bool'>\n",
    "print(\"Memory size of bool:\", b.__sizeof__())\n",
    "\n",
    "# float\n",
    "c = 3.14159\n",
    "print(\"Type of c:\", type(c))  # <class 'float'>\n",
    "print(\"Memory size of float:\", c.__sizeof__())\n"
   ],
   "id": "5ef13b75fe3fc58e"
  },
  {
   "metadata": {},
   "cell_type": "markdown",
   "source": "Типы можно приводить один к другому. Для этого мы указываем в круглых скобках () желаемый тип данных:",
   "id": "e0601bb72bfdc053"
  },
  {
   "metadata": {},
   "cell_type": "code",
   "outputs": [],
   "execution_count": null,
   "source": [
    "# int -> float\n",
    "a_float = float(a)\n",
    "print(\"int to float:\", a_float)\n",
    "\n",
    "# float -> int (округление вниз), так как отбрасывается дробная часть (мантисса)\n",
    "c_int = int(c)\n",
    "print(\"float to int:\", c_int)\n",
    "\n",
    "# bool -> int\n",
    "b_int = int(b)\n",
    "print(\"bool to int:\", b_int)"
   ],
   "id": "8664308f96d4ba99"
  },
  {
   "metadata": {},
   "cell_type": "markdown",
   "source": "Также можно задавать float с помощью экспоненты:",
   "id": "1ab471014fabd4a9"
  },
  {
   "metadata": {},
   "cell_type": "code",
   "outputs": [],
   "execution_count": null,
   "source": [
    "# float с экспонентой\n",
    "d = 1.2345e10\n",
    "print(\"float с экспонентой:\", d)"
   ],
   "id": "beabd6cc459733eb"
  },
  {
   "metadata": {},
   "cell_type": "markdown",
   "source": "Комплексные числа в Python",
   "id": "1a6a001f40e2047d"
  },
  {
   "metadata": {},
   "cell_type": "code",
   "outputs": [],
   "execution_count": null,
   "source": [
    "# Комплексные числа\n",
    "z = 3 + 4j\n",
    "print(\"Комплексное число:\", z)\n",
    "print(\"Действительная часть:\", z.real)\n",
    "print(\"Мнимая часть:\", z.imag)"
   ],
   "id": "58e631602210da11"
  },
  {
   "metadata": {},
   "cell_type": "markdown",
   "source": [
    "## 2. Арифметические и битовые операции\n",
    "\n",
    "Основные операции:"
   ],
   "id": "b0693c6c349c4b05"
  },
  {
   "metadata": {},
   "cell_type": "code",
   "outputs": [],
   "execution_count": null,
   "source": [
    "x, y = 10, 3\n",
    "\n",
    "# Сложение\n",
    "print(\"Сложение:\", x + y)\n",
    "\n",
    "# Вычитание\n",
    "print(\"Вычитание:\", x - y)\n",
    "\n",
    "# Умножение\n",
    "print(\"Умножение:\", x * y)\n",
    "\n",
    "# Деление\n",
    "print(\"Деление:\", x / y)\n",
    "\n",
    "# Возведение в степень\n",
    "print(\"Возведение в степень:\", x ** y)\n",
    "\n",
    "# Целочисленное деление\n",
    "print(\"Целочисленное деление:\", x // y)\n",
    "\n",
    "# Остаток от деления\n",
    "print(\"Остаток от деления:\", x % y)\n",
    "\n",
    "# Корень квадратный через возведение в степень. То есть мы просто возводим x в степень 1/2\n",
    "print(\"Корень квадратный:\", x ** 0.5)"
   ],
   "id": "5d48968853f05782"
  },
  {
   "metadata": {},
   "cell_type": "markdown",
   "source": "Деление int и float:",
   "id": "69d981ee520bbcbf"
  },
  {
   "metadata": {},
   "cell_type": "code",
   "outputs": [],
   "execution_count": null,
   "source": [
    "# Деление int на int\n",
    "a, b = 10, 3\n",
    "print(\"int / int:\", a / b)  # Всегда float\n",
    "\n",
    "# Деление float на float\n",
    "c, d = 10.0, 3.0\n",
    "print(\"float / float:\", c / d)  # Тоже float\n",
    "\n",
    "# Целочисленное деление (int)\n",
    "print(\"int // int:\", a // b)  # Целое число"
   ],
   "id": "78fb0bc7bd7deab4"
  },
  {
   "metadata": {},
   "cell_type": "markdown",
   "source": "Битовые операции",
   "id": "1b29c151799f4c4d"
  },
  {
   "metadata": {},
   "cell_type": "code",
   "outputs": [],
   "execution_count": null,
   "source": [
    "# Примеры битовых операций\n",
    "x, y = 5, 3  # В двоичной системе: 5 = 101, 3 = 011\n",
    "\n",
    "# Побитовое И\n",
    "print(\"5 & 3 =\", x & y)  # 101 & 011 = 001 -> 1\n",
    "\n",
    "# Побитовое ИЛИ\n",
    "print(\"5 | 3 =\", x | y)  # 101 | 011 = 111 -> 7\n",
    "\n",
    "# Побитовое исключающее ИЛИ\n",
    "print(\"5 ^ 3 =\", x ^ y)  # 101 ^ 011 = 110 -> 6\n",
    "\n",
    "# Сдвиг влево\n",
    "print(\"5 << 1 =\", x << 1)  # 101 << 1 = 1010 -> 10\n",
    "\n",
    "# Сдвиг вправо\n",
    "print(\"5 >> 1 =\", x >> 1)  # 101 >> 1 = 10 -> 2"
   ],
   "id": "2c00dc1b663958ac"
  },
  {
   "metadata": {},
   "cell_type": "markdown",
   "source": "## 3. Строки",
   "id": "64402362f3199d76"
  },
  {
   "metadata": {},
   "cell_type": "code",
   "outputs": [],
   "execution_count": null,
   "source": [
    "# Объявление строки\n",
    "s = \"Hello, Python!\"\n",
    "print(\"Строка:\", s)\n",
    "\n",
    "# Доступ к символам\n",
    "print(\"Первый символ:\", s[0])\n",
    "\n",
    "# Длина строки\n",
    "print(\"Длина строки:\", len(s))\n",
    "\n",
    "# Конкатенация строк\n",
    "text1 = \"Hello\"\n",
    "text2 = \"World\"\n",
    "result = text1 + \", \" + text2 + \"!\"\n",
    "print(result)  # Вывод: Hello, World!\n",
    "\n",
    "# Умножение строк\n",
    "text = \"Hello! \"\n",
    "result = text * 3\n",
    "print(result)  # Вывод: Hello! Hello! Hello! "
   ],
   "id": "dd8381c0aa1b2587"
  },
  {
   "metadata": {},
   "cell_type": "markdown",
   "source": [
    "Методы строк:\n",
    "\n",
    "> Метод - функция, которая вызывается от объекта через object.method(params). В данном случае object - объект, у которого есть метод, .method() - сам метод и params - возможные параметры, в зависимости от которых будет работать метод.\n",
    "\n",
    "Сейчас мы рассмотрим основные полезные методы, с помощью которых вы сможете решать некоторые простые задачи:"
   ],
   "id": "28ca27e78fdb3e49"
  },
  {
   "metadata": {},
   "cell_type": "markdown",
   "source": [
    "### .replace()\n",
    "\n",
    "Метод позволяет заменить одну подстроку на другую:"
   ],
   "id": "be9fb01dfa0cc9a"
  },
  {
   "metadata": {},
   "cell_type": "code",
   "outputs": [],
   "execution_count": null,
   "source": [
    "text = \"Hello, world!\"\n",
    "new_text = text.replace(\"world\", \"Python\")\n",
    "print(new_text)  # Вывод: Hello, Python!"
   ],
   "id": "4ef6ac8e0bcb820b"
  },
  {
   "metadata": {},
   "cell_type": "markdown",
   "source": "Здесь подстрока \"world\" заменяется на \"Python\". Также можно указать количество замен:",
   "id": "8d59e7321e9c32ab"
  },
  {
   "metadata": {},
   "cell_type": "code",
   "outputs": [],
   "execution_count": null,
   "source": [
    "text = \"one one one\"\n",
    "new_text = text.replace(\"one\", \"two\", 2)  # Заменяем только два раза\n",
    "print(new_text)  # Вывод: two two one"
   ],
   "id": "3ef78221ee9ba652"
  },
  {
   "metadata": {},
   "cell_type": "markdown",
   "source": [
    "### .find()\n",
    "\n",
    "Метод позволяет искать подстроку в строке"
   ],
   "id": "6c0ae3611cc8cf19"
  },
  {
   "metadata": {},
   "cell_type": "code",
   "outputs": [],
   "execution_count": null,
   "source": [
    "text = \"Hello, world!\"\n",
    "index = text.find(\"world\")\n",
    "print(index)  # Вывод: 7\n",
    "\n",
    "# Если подстрока не найдена\n",
    "not_found = text.find(\"Python\")\n",
    "print(not_found)  # Вывод: -1"
   ],
   "id": "349d8fec513700dc"
  },
  {
   "metadata": {},
   "cell_type": "markdown",
   "source": [
    "### .count()\n",
    "\n",
    "Этот метод возвращает количество вхождений подстроки в строке."
   ],
   "id": "9ff2181a5787374e"
  },
  {
   "metadata": {},
   "cell_type": "code",
   "outputs": [],
   "execution_count": null,
   "source": [
    "text = \"banana\"\n",
    "count_a = text.count(\"a\")\n",
    "print(count_a)  # Вывод: 3"
   ],
   "id": "60850c94a42504f8"
  },
  {
   "metadata": {},
   "cell_type": "markdown",
   "source": "Также можно задать диапазон поиска (индексы начала и конца):",
   "id": "892a484c108ca4b3"
  },
  {
   "metadata": {},
   "cell_type": "code",
   "outputs": [],
   "execution_count": null,
   "source": [
    "text = \"banana\"\n",
    "count_a = text.count(\"a\", 2, 5)  # Считаем с 3-го по 5-й символ\n",
    "print(count_a)  # Вывод: 1"
   ],
   "id": "719d6a6f22bce572"
  },
  {
   "metadata": {},
   "cell_type": "markdown",
   "source": [
    "### .startswith() и .endswith()\n",
    "\n",
    "Эти методы возвращают True, если строка начинается или заканчивается указанной подстрокой."
   ],
   "id": "3addfa25dd509be4"
  },
  {
   "metadata": {},
   "cell_type": "code",
   "outputs": [],
   "execution_count": null,
   "source": [
    "text = \"Hello, world!\"\n",
    "print(text.startswith(\"Hello\"))  # Вывод: True\n",
    "print(text.endswith(\"world!\"))   # Вывод: True"
   ],
   "id": "d42ac33e4f62633f"
  },
  {
   "metadata": {},
   "cell_type": "markdown",
   "source": [
    "### .upper() и .lower()\n",
    "\n",
    "Эти методы изменяют регистр строки."
   ],
   "id": "999fead7509afad0"
  },
  {
   "metadata": {},
   "cell_type": "code",
   "outputs": [],
   "execution_count": null,
   "source": [
    "text = \"Hello, World!\"\n",
    "print(text.upper())  # Вывод: HELLO, WORLD!\n",
    "print(text.lower())  # Вывод: hello, world!"
   ],
   "id": "4405daf587448f8"
  },
  {
   "metadata": {},
   "cell_type": "markdown",
   "source": [
    "### .strip()\n",
    "\n",
    "Удаляет пробелы или другие символы с начала и конца строки. "
   ],
   "id": "9c05027fca33af35"
  },
  {
   "metadata": {},
   "cell_type": "code",
   "outputs": [],
   "execution_count": null,
   "source": [
    "text = \"   Hello, world!   \"\n",
    "print(text.strip())  # Вывод: Hello, world!"
   ],
   "id": "b4dcb7870e335ffd"
  },
  {
   "metadata": {},
   "cell_type": "markdown",
   "source": "Также можно удалить конкретные символы:",
   "id": "777d8a55fe5ab5"
  },
  {
   "metadata": {},
   "cell_type": "code",
   "outputs": [],
   "execution_count": null,
   "source": [
    "text = \"###Hello###\"\n",
    "print(text.strip(\"#\"))  # Вывод: Hello"
   ],
   "id": "8875c84555b0b472"
  },
  {
   "metadata": {},
   "cell_type": "markdown",
   "source": [
    "### .capitalize()\n",
    "\n",
    "Этот метод изменяет первую букву строки на заглавную."
   ],
   "id": "a460d8c993ec9e22"
  },
  {
   "metadata": {},
   "cell_type": "code",
   "outputs": [],
   "execution_count": null,
   "source": [
    "text = \"hello world\"\n",
    "print(text.capitalize())  # Вывод: Hello world"
   ],
   "id": "c7037831266e9862"
  },
  {
   "metadata": {},
   "cell_type": "markdown",
   "source": [
    "### .isdigit() и .isalpha()\n",
    "\n",
    "Возвращает True, если строка состоит только из цифр, иначе — False."
   ],
   "id": "9fd2a8642a6e28ee"
  },
  {
   "metadata": {},
   "cell_type": "code",
   "outputs": [],
   "execution_count": null,
   "source": [
    "text = \"12345\"\n",
    "print(text.isdigit())  # Вывод: True\n",
    "print(text.isalpha())  # Вывод: False\n",
    "\n",
    "text2 = \"123a\"\n",
    "print(text2.isdigit())  # Вывод: False\n",
    "print(text2.isalpha())  # Вывод: False\n",
    "\n",
    "text3 = \"abcd\"\n",
    "print(text3.isdigit())  # Вывод False\n",
    "print(text3.isalpha())  # Вывод True"
   ],
   "id": "1055d287d2bbc965"
  },
  {
   "metadata": {},
   "cell_type": "markdown",
   "source": [
    "## 4. Списки и кортежи\n",
    "\n",
    "Список можно изменять после объявления, а кортеж нет."
   ],
   "id": "af447cc0f5ac1bee"
  },
  {
   "metadata": {},
   "cell_type": "code",
   "outputs": [],
   "execution_count": null,
   "source": [
    "# Список\n",
    "my_list = [1, 2, 3, \"Python\"]\n",
    "\n",
    "# Кортеж\n",
    "my_tuple = (1, 2, 3, \"Python\")"
   ],
   "id": "ed2684849dbffec8"
  },
  {
   "metadata": {},
   "cell_type": "markdown",
   "source": "То есть в список можно добавить элемент, а в кортеж нет",
   "id": "c2860a908fe94d2a"
  },
  {
   "metadata": {},
   "cell_type": "code",
   "outputs": [],
   "execution_count": null,
   "source": [
    "# Добавление в список\n",
    "my_list.append(4)\n",
    "print(\"Список после добавления:\", my_list)\n",
    "\n",
    "# Удаление из списка\n",
    "my_list.remove(2)\n",
    "print(\"Список после удаления:\", my_list)\n",
    "\n",
    "# Кортеж неизменяем, поэтому операции append/remove вызовут ошибку\n",
    "try:\n",
    "    my_tuple.append(4)\n",
    "except AttributeError as e:\n",
    "    print(e)  # Кортеж не поддерживает добавление"
   ],
   "id": "b506d4e60c925b"
  },
  {
   "metadata": {},
   "cell_type": "markdown",
   "source": [
    "Строки и списки можно \"приводить\" друг к другу:\n",
    "\n",
    "> .split() - разбиение строки на список\n",
    "\n",
    "Этот метод разбивает строку на части по указанному разделителю и возвращает список."
   ],
   "id": "f4fd5ac915908f38"
  },
  {
   "metadata": {},
   "cell_type": "code",
   "outputs": [],
   "execution_count": null,
   "source": [
    "text = \"apple,banana,cherry\"\n",
    "fruits = text.split(\",\")\n",
    "print(fruits)  # Вывод: ['apple', 'banana', 'cherry']"
   ],
   "id": "3c74c6ac44ff6c15"
  },
  {
   "metadata": {},
   "cell_type": "markdown",
   "source": "Можно задать максимальное количество разделений:",
   "id": "1e04a590e965588"
  },
  {
   "metadata": {},
   "cell_type": "code",
   "outputs": [],
   "execution_count": null,
   "source": [
    "text = \"apple,banana,cherry\"\n",
    "fruits = text.split(\",\", 1)  # Разделяем только один раз\n",
    "print(fruits)  # Вывод: ['apple', 'banana,cherry']"
   ],
   "id": "7df09a43aa18212c"
  },
  {
   "metadata": {},
   "cell_type": "markdown",
   "source": [
    "Также и наоборот. Можно из списка \"собрать\" строку.\n",
    "\n",
    "> .join() — объединение элементов списка в строку\n",
    "\n",
    "Этот метод используется для объединения элементов итерируемого объекта (например, списка) в строку с указанным разделителем."
   ],
   "id": "5c2d184f2e4de09f"
  },
  {
   "metadata": {},
   "cell_type": "code",
   "outputs": [],
   "execution_count": null,
   "source": [
    "fruits = [\"apple\", \"banana\", \"cherry\"]\n",
    "result = \", \".join(fruits)\n",
    "print(result)  # Вывод: apple, banana, cherry"
   ],
   "id": "7d9e46f492671bc8"
  },
  {
   "metadata": {},
   "cell_type": "markdown",
   "source": [
    "## 5. Срезы\n",
    "\n",
    "Срезы позволяют получить подмножество элементов последовательности."
   ],
   "id": "8d977d5a1e417b0e"
  },
  {
   "metadata": {},
   "cell_type": "code",
   "outputs": [],
   "execution_count": null,
   "source": [
    "# Срез строки\n",
    "s = \"Hello, Python!\"\n",
    "print(\"Срез строки (1:5):\", s[1:5])  # \"ello\"\n",
    "\n",
    "# Срез списка\n",
    "my_list = [0, 1, 2, 3, 4, 5]\n",
    "print(\"Срез списка (2:5):\", my_list[2:5])  # [2, 3, 4]\n",
    "\n",
    "# Обратный срез\n",
    "print(\"Обратный срез списка (-3:):\", my_list[-3:])  # [3, 4, 5]"
   ],
   "id": "e7cf1e18f388bcad"
  },
  {
   "metadata": {},
   "cell_type": "markdown",
   "source": "Левая граница включается, а правая нет - [left:right).",
   "id": "cefc922f4f1ae8be"
  },
  {
   "metadata": {},
   "cell_type": "code",
   "outputs": [],
   "execution_count": null,
   "source": [
    "# Срез с указанием границ\n",
    "slice_example = my_list[1:4]  # Включает элементы с индекса 1 до 3\n",
    "print(\"Срез списка (1:4):\", slice_example)"
   ],
   "id": "13a6d7fecb06942c"
  },
  {
   "metadata": {},
   "cell_type": "markdown",
   "source": "Копирование при срезах: Срез создаёт новый объект (копию). Поэтому изменения в новом списке не затрагивают оригинальный.",
   "id": "e03a2c32c2d42e98"
  },
  {
   "metadata": {},
   "cell_type": "code",
   "outputs": [],
   "execution_count": null,
   "source": [
    "# Копирование списка через срез\n",
    "copied_list = my_list[:]\n",
    "copied_list[0] = 100\n",
    "print(\"Оригинальный список:\", my_list)\n",
    "print(\"Скопированный список:\", copied_list)"
   ],
   "id": "11ee54dcd9f6f48f"
  },
  {
   "metadata": {},
   "cell_type": "markdown",
   "source": [
    "## 6. f-строки\n",
    "\n",
    "Обычная строка — это неизменяемый объект, который хранит последовательность символов. В Python существует несколько способов работы с обычными строками, включая конкатенацию (сцепление) с использованием оператора + или форматирование с помощью метода str.format()."
   ],
   "id": "a8704a4f6ddec058"
  },
  {
   "metadata": {},
   "cell_type": "code",
   "outputs": [],
   "execution_count": null,
   "source": [
    "name = \"Alice\"\n",
    "age = 25\n",
    "\n",
    "# Конкатенация\n",
    "greeting = \"Меня зовут \" + name + \", мне \" + str(age) + \" лет.\"\n",
    "print(greeting)\n",
    "\n",
    "# Метод .format()\n",
    "greeting_format = \"Меня зовут {}, мне {} лет.\".format(name, age)\n",
    "print(greeting_format)"
   ],
   "id": "7db6f3a91924eb55"
  },
  {
   "metadata": {},
   "cell_type": "markdown",
   "source": [
    "f-строки - formatted string litterals\n",
    "\n",
    "f-строки были введены в Python 3.6 и предоставляют более удобный синтаксис для форматирования строк. Они используют литерал f перед кавычками и позволяют вставлять выражения непосредственно в строку."
   ],
   "id": "930bfe3eb15249f8"
  },
  {
   "metadata": {},
   "cell_type": "code",
   "outputs": [],
   "execution_count": null,
   "source": [
    "name = \"Alice\"\n",
    "age = 25\n",
    "\n",
    "# f-строка\n",
    "greeting_f = f\"Меня зовут {name}, мне {age} лет.\"\n",
    "print(greeting_f)"
   ],
   "id": "6ee9f19598ff11cd"
  },
  {
   "metadata": {},
   "cell_type": "markdown",
   "source": [
    "Как они реализованы?\n",
    "\n",
    "Обычные строки: Для создания строки в Python, используется класс str. Когда происходит конкатенация с оператором +, каждый раз создается новая строка, что может быть неэффективно по времени и памяти, так как приходится выделять новую память для каждой конкатенации.\n",
    "\n",
    "f-строки: Внутри f-строк вставляемые выражения вычисляются и автоматически преобразуются в строку. Это происходит на этапе выполнения кода, что делает f-строки более удобными и часто более эффективными в плане производительности по сравнению с использованием метода .format().\n",
    "\n",
    "### Плюсы и минусы\n",
    "\n",
    "Обычные строки:\n",
    "- Плюсы: Простота и широкая поддержка (работают даже в ранних версиях Python).\n",
    "- Минусы: Менее удобны для форматирования, требуют явного преобразования типов через str(), каждая операция конкатенации создает новую строку, что может приводить к затратам на выделение памяти.\n",
    "\n",
    "f-строки:\n",
    "- Плюсы: Более удобный синтаксис, поддержка выражений прямо в строке, лучшая производительность для сложных выражений.\n",
    "- Минусы: Поддерживаются только с Python 3.6 и новее.\n",
    "\n",
    "Память, занимаемая строками\n",
    "Размер строки в Python зависит от её длины и архитектуры системы. В Python строки неизменяемы, поэтому если строка расширяется, создается новая строка в памяти."
   ],
   "id": "42d209028f62cb34"
  },
  {
   "metadata": {},
   "cell_type": "markdown",
   "source": [
    "Пример оценки размера строки:\n",
    "\n",
    "Для получения размера строки в памяти можно использовать функцию sys.getsizeof():"
   ],
   "id": "9ccf9f54cbe28269"
  },
  {
   "metadata": {},
   "cell_type": "code",
   "outputs": [],
   "execution_count": null,
   "source": [
    "import sys\n",
    "\n",
    "s = \"Hello, world!\"\n",
    "print(f\"Размер строки '{s}' в памяти: {sys.getsizeof(s)} байт\")"
   ],
   "id": "1ebf3714f9c8fbe4"
  },
  {
   "metadata": {},
   "cell_type": "markdown",
   "source": [
    "Минимальный размер пустой строки в Python — около 49 байт (на 64-битных системах). Этот размер включает накладные расходы на хранение метаданных объекта строки. Каждый дополнительный символ добавляет около 1-4 байт в зависимости от кодировки (например, для ASCII символов — 1 байт, для Unicode символов — до 4 байт).\n",
    "\n",
    "### Расширение строк в памяти\n",
    "Когда строка конкатенируется с другой строкой, происходит выделение новой области памяти для результирующей строки. Поскольку строки в Python неизменяемы, это означает, что каждая операция конкатенации создает новый объект, что может быть затратным с точки зрения производительности при большом количестве операций.\n",
    "\n",
    "Чтобы избежать этих затрат, часто рекомендуется использовать методы, которые создают результат за одну операцию (например, f-строки или метод .join()).\n",
    "\n",
    "### Как строки расширяются в памяти\n",
    "Когда строка расширяется, Python выделяет новую память для всей строки. Как строки расширяются, зависит от системы управления памятью в Python (Pymalloc). Python не расширяет память для строки динамически \"на месте\", как это происходит с изменяемыми объектами, такими как списки.\n",
    "\n",
    "Строки в Python хранятся как последовательность байтов, и каждый раз, когда вы добавляете к строке новый символ или фрагмент, вся строка копируется в новую область памяти. Поэтому для больших объёмов данных стоит избегать многократной конкатенации.\n",
    "\n",
    "### Заключение\n",
    "f-строки — это удобный и эффективный способ форматирования строк, особенно при работе с динамическими выражениями.\n",
    "Обычные строки (особенно конкатенация с +) могут быть менее эффективными, так как требуют создания новой строки в памяти при каждом изменении.\n",
    "Строки неизменяемы, поэтому каждая операция конкатенации требует выделения новой памяти."
   ],
   "id": "beb3d7ec5fc283d6"
  },
  {
   "metadata": {},
   "cell_type": "code",
   "outputs": [],
   "execution_count": null,
   "source": "print(\"До скорых встреч\")",
   "id": "a801624363428b46"
  }
 ],
 "metadata": {
  "kernelspec": {
   "display_name": "Python 3",
   "language": "python",
   "name": "python3"
  },
  "language_info": {
   "codemirror_mode": {
    "name": "ipython",
    "version": 2
   },
   "file_extension": ".py",
   "mimetype": "text/x-python",
   "name": "python",
   "nbconvert_exporter": "python",
   "pygments_lexer": "ipython2",
   "version": "2.7.6"
  }
 },
 "nbformat": 4,
 "nbformat_minor": 5
}
